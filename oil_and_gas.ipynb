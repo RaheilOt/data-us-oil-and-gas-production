{
 "cells": [
  {
   "cell_type": "markdown",
   "metadata": {},
   "source": [
    "# U.S. Oil and Gas Production Analysis\n",
    "Analyzing the Kaggle Dataset...\n"
   ]
  },
  {
   "cell_type": "markdown",
   "metadata": {},
   "source": [
    "## Loading Modules"
   ]
  },
  {
   "cell_type": "code",
   "execution_count": 26,
   "metadata": {
    "execution": {
     "iopub.execute_input": "2025-09-07T13:21:51.097133Z",
     "iopub.status.busy": "2025-09-07T13:21:51.096549Z",
     "iopub.status.idle": "2025-09-07T13:21:51.121981Z",
     "shell.execute_reply": "2025-09-07T13:21:51.120131Z",
     "shell.execute_reply.started": "2025-09-07T13:21:51.097105Z"
    }
   },
   "outputs": [],
   "source": [
    "import numpy as np\n",
    "import pandas as pd\n",
    "import matplotlib.pyplot as plt\n"
   ]
  },
  {
   "cell_type": "markdown",
   "metadata": {},
   "source": [
    "## Load Gas CSV:"
   ]
  },
  {
   "cell_type": "code",
   "execution_count": 3,
   "metadata": {
    "execution": {
     "iopub.execute_input": "2025-09-07T12:47:13.749883Z",
     "iopub.status.busy": "2025-09-07T12:47:13.749516Z",
     "iopub.status.idle": "2025-09-07T12:47:13.865579Z",
     "shell.execute_reply": "2025-09-07T12:47:13.829453Z",
     "shell.execute_reply.started": "2025-09-07T12:47:13.749860Z"
    }
   },
   "outputs": [
    {
     "data": {
      "text/html": [
       "<div>\n",
       "<style scoped>\n",
       "    .dataframe tbody tr th:only-of-type {\n",
       "        vertical-align: middle;\n",
       "    }\n",
       "\n",
       "    .dataframe tbody tr th {\n",
       "        vertical-align: top;\n",
       "    }\n",
       "\n",
       "    .dataframe thead th {\n",
       "        text-align: right;\n",
       "    }\n",
       "</style>\n",
       "<table border=\"1\" class=\"dataframe\">\n",
       "  <thead>\n",
       "    <tr style=\"text-align: right;\">\n",
       "      <th></th>\n",
       "      <th>Month</th>\n",
       "      <th>U.S.</th>\n",
       "      <th>Alaska</th>\n",
       "      <th>Arkansas</th>\n",
       "      <th>Kansas</th>\n",
       "      <th>Other States</th>\n",
       "      <th>Federal Offshore--Gulf of Mexico</th>\n",
       "      <th>Wyoming</th>\n",
       "      <th>West Virginia</th>\n",
       "      <th>Utah</th>\n",
       "      <th>Pennsylvania</th>\n",
       "      <th>Texas</th>\n",
       "      <th>Oklahoma</th>\n",
       "      <th>Ohio</th>\n",
       "      <th>North Dakota</th>\n",
       "      <th>New Mexico</th>\n",
       "      <th>Montana</th>\n",
       "      <th>Louisiana</th>\n",
       "      <th>Colorado</th>\n",
       "      <th>California</th>\n",
       "    </tr>\n",
       "  </thead>\n",
       "  <tbody>\n",
       "    <tr>\n",
       "      <th>0</th>\n",
       "      <td>2008-06-01</td>\n",
       "      <td>70626</td>\n",
       "      <td>8875</td>\n",
       "      <td>1196</td>\n",
       "      <td>1024</td>\n",
       "      <td>2995</td>\n",
       "      <td>7339</td>\n",
       "      <td>6839</td>\n",
       "      <td>670</td>\n",
       "      <td>1198</td>\n",
       "      <td>540</td>\n",
       "      <td>21446</td>\n",
       "      <td>5241</td>\n",
       "      <td>224</td>\n",
       "      <td>243</td>\n",
       "      <td>3975</td>\n",
       "      <td>323</td>\n",
       "      <td>3989</td>\n",
       "      <td>3576</td>\n",
       "      <td>932</td>\n",
       "    </tr>\n",
       "    <tr>\n",
       "      <th>1</th>\n",
       "      <td>2008-07-01</td>\n",
       "      <td>71137</td>\n",
       "      <td>8375</td>\n",
       "      <td>1256</td>\n",
       "      <td>1034</td>\n",
       "      <td>3150</td>\n",
       "      <td>7468</td>\n",
       "      <td>6940</td>\n",
       "      <td>674</td>\n",
       "      <td>1200</td>\n",
       "      <td>512</td>\n",
       "      <td>21547</td>\n",
       "      <td>5256</td>\n",
       "      <td>220</td>\n",
       "      <td>243</td>\n",
       "      <td>4179</td>\n",
       "      <td>324</td>\n",
       "      <td>4008</td>\n",
       "      <td>3834</td>\n",
       "      <td>919</td>\n",
       "    </tr>\n",
       "    <tr>\n",
       "      <th>2</th>\n",
       "      <td>2008-08-01</td>\n",
       "      <td>70760</td>\n",
       "      <td>8739</td>\n",
       "      <td>1313</td>\n",
       "      <td>1033</td>\n",
       "      <td>3092</td>\n",
       "      <td>6868</td>\n",
       "      <td>6835</td>\n",
       "      <td>678</td>\n",
       "      <td>1277</td>\n",
       "      <td>529</td>\n",
       "      <td>21777</td>\n",
       "      <td>4896</td>\n",
       "      <td>220</td>\n",
       "      <td>249</td>\n",
       "      <td>4092</td>\n",
       "      <td>327</td>\n",
       "      <td>3896</td>\n",
       "      <td>4056</td>\n",
       "      <td>881</td>\n",
       "    </tr>\n",
       "    <tr>\n",
       "      <th>3</th>\n",
       "      <td>2008-09-01</td>\n",
       "      <td>63984</td>\n",
       "      <td>9221</td>\n",
       "      <td>1316</td>\n",
       "      <td>1032</td>\n",
       "      <td>2953</td>\n",
       "      <td>2100</td>\n",
       "      <td>6447</td>\n",
       "      <td>657</td>\n",
       "      <td>1276</td>\n",
       "      <td>542</td>\n",
       "      <td>20435</td>\n",
       "      <td>5224</td>\n",
       "      <td>224</td>\n",
       "      <td>260</td>\n",
       "      <td>4069</td>\n",
       "      <td>330</td>\n",
       "      <td>2960</td>\n",
       "      <td>4049</td>\n",
       "      <td>890</td>\n",
       "    </tr>\n",
       "    <tr>\n",
       "      <th>4</th>\n",
       "      <td>2008-10-01</td>\n",
       "      <td>69464</td>\n",
       "      <td>9674</td>\n",
       "      <td>1375</td>\n",
       "      <td>1026</td>\n",
       "      <td>3113</td>\n",
       "      <td>4368</td>\n",
       "      <td>6909</td>\n",
       "      <td>692</td>\n",
       "      <td>1241</td>\n",
       "      <td>543</td>\n",
       "      <td>21948</td>\n",
       "      <td>5126</td>\n",
       "      <td>236</td>\n",
       "      <td>267</td>\n",
       "      <td>4168</td>\n",
       "      <td>330</td>\n",
       "      <td>3718</td>\n",
       "      <td>3860</td>\n",
       "      <td>870</td>\n",
       "    </tr>\n",
       "  </tbody>\n",
       "</table>\n",
       "</div>"
      ],
      "text/plain": [
       "        Month   U.S.  Alaska  Arkansas  Kansas  Other States  \\\n",
       "0  2008-06-01  70626    8875      1196    1024          2995   \n",
       "1  2008-07-01  71137    8375      1256    1034          3150   \n",
       "2  2008-08-01  70760    8739      1313    1033          3092   \n",
       "3  2008-09-01  63984    9221      1316    1032          2953   \n",
       "4  2008-10-01  69464    9674      1375    1026          3113   \n",
       "\n",
       "   Federal Offshore--Gulf of Mexico  Wyoming  West Virginia  Utah  \\\n",
       "0                              7339     6839            670  1198   \n",
       "1                              7468     6940            674  1200   \n",
       "2                              6868     6835            678  1277   \n",
       "3                              2100     6447            657  1276   \n",
       "4                              4368     6909            692  1241   \n",
       "\n",
       "   Pennsylvania  Texas  Oklahoma  Ohio  North Dakota  New Mexico  Montana  \\\n",
       "0           540  21446      5241   224           243        3975      323   \n",
       "1           512  21547      5256   220           243        4179      324   \n",
       "2           529  21777      4896   220           249        4092      327   \n",
       "3           542  20435      5224   224           260        4069      330   \n",
       "4           543  21948      5126   236           267        4168      330   \n",
       "\n",
       "   Louisiana  Colorado  California  \n",
       "0       3989      3576         932  \n",
       "1       4008      3834         919  \n",
       "2       3896      4056         881  \n",
       "3       2960      4049         890  \n",
       "4       3718      3860         870  "
      ]
     },
     "execution_count": 3,
     "metadata": {},
     "output_type": "execute_result"
    }
   ],
   "source": [
    "file = \"data/U.S._natural_gas_production.csv\"\n",
    "gas_df = pd.read_csv(file, decimal=\",\")\n",
    "gas_df.head(5)\n"
   ]
  },
  {
   "cell_type": "markdown",
   "metadata": {},
   "source": [
    "## Basic Inspection:"
   ]
  },
  {
   "cell_type": "code",
   "execution_count": 4,
   "metadata": {
    "execution": {
     "iopub.execute_input": "2025-09-07T12:48:30.545457Z",
     "iopub.status.busy": "2025-09-07T12:48:30.545103Z",
     "iopub.status.idle": "2025-09-07T12:48:30.556349Z",
     "shell.execute_reply": "2025-09-07T12:48:30.554254Z",
     "shell.execute_reply.started": "2025-09-07T12:48:30.545433Z"
    }
   },
   "outputs": [
    {
     "data": {
      "text/plain": [
       "(121, 20)"
      ]
     },
     "execution_count": 4,
     "metadata": {},
     "output_type": "execute_result"
    }
   ],
   "source": [
    "gas_df.shape"
   ]
  },
  {
   "cell_type": "code",
   "execution_count": 5,
   "metadata": {
    "execution": {
     "iopub.execute_input": "2025-09-07T12:48:36.260896Z",
     "iopub.status.busy": "2025-09-07T12:48:36.260366Z",
     "iopub.status.idle": "2025-09-07T12:48:36.270352Z",
     "shell.execute_reply": "2025-09-07T12:48:36.269703Z",
     "shell.execute_reply.started": "2025-09-07T12:48:36.260870Z"
    }
   },
   "outputs": [
    {
     "data": {
      "text/plain": [
       "Index(['Month', 'U.S.', 'Alaska', 'Arkansas', 'Kansas', 'Other States',\n",
       "       'Federal Offshore--Gulf of Mexico', 'Wyoming', 'West Virginia', 'Utah',\n",
       "       'Pennsylvania', 'Texas', 'Oklahoma', 'Ohio', 'North Dakota',\n",
       "       'New Mexico', 'Montana', 'Louisiana', 'Colorado', 'California'],\n",
       "      dtype='object')"
      ]
     },
     "execution_count": 5,
     "metadata": {},
     "output_type": "execute_result"
    }
   ],
   "source": [
    "gas_df.columns\n"
   ]
  },
  {
   "cell_type": "code",
   "execution_count": 6,
   "metadata": {
    "execution": {
     "iopub.execute_input": "2025-09-07T12:48:39.346357Z",
     "iopub.status.busy": "2025-09-07T12:48:39.346007Z",
     "iopub.status.idle": "2025-09-07T12:48:39.373645Z",
     "shell.execute_reply": "2025-09-07T12:48:39.371093Z",
     "shell.execute_reply.started": "2025-09-07T12:48:39.346331Z"
    }
   },
   "outputs": [
    {
     "name": "stdout",
     "output_type": "stream",
     "text": [
      "<class 'pandas.core.frame.DataFrame'>\n",
      "RangeIndex: 121 entries, 0 to 120\n",
      "Data columns (total 20 columns):\n",
      " #   Column                            Non-Null Count  Dtype \n",
      "---  ------                            --------------  ----- \n",
      " 0   Month                             121 non-null    object\n",
      " 1   U.S.                              121 non-null    int64 \n",
      " 2   Alaska                            121 non-null    int64 \n",
      " 3   Arkansas                          121 non-null    int64 \n",
      " 4   Kansas                            121 non-null    int64 \n",
      " 5   Other States                      121 non-null    int64 \n",
      " 6   Federal Offshore--Gulf of Mexico  121 non-null    int64 \n",
      " 7   Wyoming                           121 non-null    int64 \n",
      " 8   West Virginia                     121 non-null    int64 \n",
      " 9   Utah                              121 non-null    int64 \n",
      " 10  Pennsylvania                      121 non-null    int64 \n",
      " 11  Texas                             121 non-null    int64 \n",
      " 12  Oklahoma                          121 non-null    int64 \n",
      " 13  Ohio                              121 non-null    int64 \n",
      " 14  North Dakota                      121 non-null    int64 \n",
      " 15  New Mexico                        121 non-null    int64 \n",
      " 16  Montana                           121 non-null    int64 \n",
      " 17  Louisiana                         121 non-null    int64 \n",
      " 18  Colorado                          121 non-null    int64 \n",
      " 19  California                        121 non-null    int64 \n",
      "dtypes: int64(19), object(1)\n",
      "memory usage: 19.0+ KB\n"
     ]
    }
   ],
   "source": [
    "gas_df.info()"
   ]
  },
  {
   "cell_type": "markdown",
   "metadata": {},
   "source": [
    "### Convert Month to datetime:"
   ]
  },
  {
   "cell_type": "code",
   "execution_count": 7,
   "metadata": {
    "execution": {
     "iopub.execute_input": "2025-09-07T12:49:42.158841Z",
     "iopub.status.busy": "2025-09-07T12:49:42.158484Z",
     "iopub.status.idle": "2025-09-07T12:49:42.186938Z",
     "shell.execute_reply": "2025-09-07T12:49:42.185571Z",
     "shell.execute_reply.started": "2025-09-07T12:49:42.158816Z"
    }
   },
   "outputs": [],
   "source": [
    "\n",
    "gas_df['Month'] = pd.to_datetime(gas_df['Month'])\n",
    "month_type = gas_df['Month'].dtype\n"
   ]
  },
  {
   "cell_type": "code",
   "execution_count": 9,
   "metadata": {
    "execution": {
     "iopub.execute_input": "2025-09-07T12:51:42.379316Z",
     "iopub.status.busy": "2025-09-07T12:51:42.378938Z",
     "iopub.status.idle": "2025-09-07T12:51:42.401104Z",
     "shell.execute_reply": "2025-09-07T12:51:42.400136Z",
     "shell.execute_reply.started": "2025-09-07T12:51:42.379284Z"
    }
   },
   "outputs": [
    {
     "data": {
      "text/plain": [
       "116    2\n",
       "117    3\n",
       "118    4\n",
       "119    5\n",
       "120    6\n",
       "Name: Month, dtype: int32"
      ]
     },
     "execution_count": 9,
     "metadata": {},
     "output_type": "execute_result"
    }
   ],
   "source": [
    "gas_df['Month'].dt.year.head()\n",
    "gas_df['Month'].dt.month.tail()\n"
   ]
  },
  {
   "cell_type": "markdown",
   "metadata": {
    "jp-MarkdownHeadingCollapsed": true
   },
   "source": [
    "## test "
   ]
  },
  {
   "cell_type": "code",
   "execution_count": 8,
   "metadata": {
    "execution": {
     "iopub.execute_input": "2025-09-07T12:51:22.146453Z",
     "iopub.status.busy": "2025-09-07T12:51:22.146143Z",
     "iopub.status.idle": "2025-09-07T12:51:23.606619Z",
     "shell.execute_reply": "2025-09-07T12:51:23.605670Z",
     "shell.execute_reply.started": "2025-09-07T12:51:22.146432Z"
    }
   },
   "outputs": [
    {
     "name": "stdout",
     "output_type": "stream",
     "text": [
      "\n",
      "\u001b[1m============================= test session starts ==============================\u001b[0m\n",
      "platform darwin -- Python 3.12.9, pytest-8.3.4, pluggy-1.5.0 -- /Users/raheil/.pyenv/versions/3.12.9/envs/lewagon/bin/python\n",
      "cachedir: .pytest_cache\n",
      "rootdir: /Users/raheil/code/RaheilOt/02-Data-Toolkit/01-Data-Analysis/data-us-oil-and-gas-production/tests\n",
      "plugins: anyio-4.8.0, typeguard-4.4.2\n",
      "\u001b[1mcollecting ... \u001b[0mcollected 1 item\n",
      "\n",
      "test_date.py::TestDate::test_month_column_is_a_datetime \u001b[32mPASSED\u001b[0m\u001b[32m           [100%]\u001b[0m\n",
      "\n",
      "\u001b[32m============================== \u001b[32m\u001b[1m1 passed\u001b[0m\u001b[32m in 0.21s\u001b[0m\u001b[32m ===============================\u001b[0m\n",
      "\n",
      "\n",
      "💯 You can commit your code:\n",
      "\n",
      "\u001b[1;32mgit\u001b[39m add tests/date.pickle\n",
      "\n",
      "\u001b[32mgit\u001b[39m commit -m \u001b[33m'Completed date step'\u001b[39m\n",
      "\n",
      "\u001b[32mgit\u001b[39m push origin master\n",
      "\n"
     ]
    }
   ],
   "source": [
    "from nbresult import ChallengeResult\n",
    "result = ChallengeResult('date', month_type=month_type)\n",
    "result.write()\n",
    "print(result.check())\n"
   ]
  },
  {
   "cell_type": "markdown",
   "metadata": {},
   "source": [
    "##"
   ]
  },
  {
   "cell_type": "markdown",
   "metadata": {
    "execution": {
     "iopub.execute_input": "2025-09-07T12:58:25.180713Z",
     "iopub.status.busy": "2025-09-07T12:58:25.180366Z",
     "iopub.status.idle": "2025-09-07T12:58:25.188211Z",
     "shell.execute_reply": "2025-09-07T12:58:25.185989Z",
     "shell.execute_reply.started": "2025-09-07T12:58:25.180689Z"
    }
   },
   "source": [
    "##  Yearly Gas Production"
   ]
  },
  {
   "cell_type": "code",
   "execution_count": 14,
   "metadata": {
    "execution": {
     "iopub.execute_input": "2025-09-07T13:05:45.058712Z",
     "iopub.status.busy": "2025-09-07T13:05:45.056923Z",
     "iopub.status.idle": "2025-09-07T13:05:45.079684Z",
     "shell.execute_reply": "2025-09-07T13:05:45.078614Z",
     "shell.execute_reply.started": "2025-09-07T13:05:45.058666Z"
    }
   },
   "outputs": [],
   "source": [
    "yearly_gas_df = gas_df.groupby(gas_df['Month'].dt.year)[gas_df.columns[1:]].sum()\n"
   ]
  },
  {
   "cell_type": "code",
   "execution_count": 15,
   "metadata": {
    "execution": {
     "iopub.execute_input": "2025-09-07T13:05:54.775154Z",
     "iopub.status.busy": "2025-09-07T13:05:54.774796Z",
     "iopub.status.idle": "2025-09-07T13:05:54.803968Z",
     "shell.execute_reply": "2025-09-07T13:05:54.803282Z",
     "shell.execute_reply.started": "2025-09-07T13:05:54.775129Z"
    }
   },
   "outputs": [],
   "source": [
    "gas_df['Year'] = gas_df['Month'].dt.year\n",
    "yearly_gas_df = gas_df.groupby('Year').sum(numeric_only=True)\n",
    "\n",
    "\n"
   ]
  },
  {
   "cell_type": "markdown",
   "metadata": {
    "execution": {
     "iopub.execute_input": "2025-09-07T13:06:35.670900Z",
     "iopub.status.busy": "2025-09-07T13:06:35.670565Z",
     "iopub.status.idle": "2025-09-07T13:06:35.676911Z",
     "shell.execute_reply": "2025-09-07T13:06:35.675286Z",
     "shell.execute_reply.started": "2025-09-07T13:06:35.670878Z"
    }
   },
   "source": [
    "\n",
    "##  test"
   ]
  },
  {
   "cell_type": "code",
   "execution_count": 17,
   "metadata": {
    "execution": {
     "iopub.execute_input": "2025-09-07T13:06:54.587813Z",
     "iopub.status.busy": "2025-09-07T13:06:54.586184Z",
     "iopub.status.idle": "2025-09-07T13:06:55.871314Z",
     "shell.execute_reply": "2025-09-07T13:06:55.870085Z",
     "shell.execute_reply.started": "2025-09-07T13:06:54.587780Z"
    }
   },
   "outputs": [
    {
     "name": "stdout",
     "output_type": "stream",
     "text": [
      "\n",
      "\u001b[1m============================= test session starts ==============================\u001b[0m\n",
      "platform darwin -- Python 3.12.9, pytest-8.3.4, pluggy-1.5.0 -- /Users/raheil/.pyenv/versions/3.12.9/envs/lewagon/bin/python\n",
      "cachedir: .pytest_cache\n",
      "rootdir: /Users/raheil/code/RaheilOt/02-Data-Toolkit/01-Data-Analysis/data-us-oil-and-gas-production/tests\n",
      "plugins: anyio-4.8.0, typeguard-4.4.2\n",
      "\u001b[1mcollecting ... \u001b[0mcollected 3 items\n",
      "\n",
      "test_full_gas.py::TestFullGas::test_df_has_the_right_index \u001b[32mPASSED\u001b[0m\u001b[32m        [ 33%]\u001b[0m\n",
      "test_full_gas.py::TestFullGas::test_df_has_the_right_shape \u001b[32mPASSED\u001b[0m\u001b[32m        [ 66%]\u001b[0m\n",
      "test_full_gas.py::TestFullGas::test_df_has_the_right_values \u001b[32mPASSED\u001b[0m\u001b[32m       [100%]\u001b[0m\n",
      "\n",
      "\u001b[32m============================== \u001b[32m\u001b[1m3 passed\u001b[0m\u001b[32m in 0.25s\u001b[0m\u001b[32m ===============================\u001b[0m\n",
      "\n",
      "\n",
      "💯 You can commit your code:\n",
      "\n",
      "\u001b[1;32mgit\u001b[39m add tests/full_gas.pickle\n",
      "\n",
      "\u001b[32mgit\u001b[39m commit -m \u001b[33m'Completed full_gas step'\u001b[39m\n",
      "\n",
      "\u001b[32mgit\u001b[39m push origin master\n",
      "\n"
     ]
    }
   ],
   "source": [
    "from nbresult import ChallengeResult\n",
    "\n",
    "result = ChallengeResult('full_gas',\n",
    "    index_year=index_year,\n",
    "    yearly_gas_shape=yearly_gas_shape,\n",
    "    us_total=us_total\n",
    ")\n",
    "result.write()\n",
    "print(result.check())\n"
   ]
  },
  {
   "cell_type": "markdown",
   "metadata": {},
   "source": [
    "## # Exclude the first and last year because they are incomplete."
   ]
  },
  {
   "cell_type": "code",
   "execution_count": 21,
   "metadata": {
    "execution": {
     "iopub.execute_input": "2025-09-07T13:18:42.601675Z",
     "iopub.status.busy": "2025-09-07T13:18:42.599225Z",
     "iopub.status.idle": "2025-09-07T13:18:42.630013Z",
     "shell.execute_reply": "2025-09-07T13:18:42.628601Z",
     "shell.execute_reply.started": "2025-09-07T13:18:42.601619Z"
    }
   },
   "outputs": [
    {
     "data": {
      "text/html": [
       "<div>\n",
       "<style scoped>\n",
       "    .dataframe tbody tr th:only-of-type {\n",
       "        vertical-align: middle;\n",
       "    }\n",
       "\n",
       "    .dataframe tbody tr th {\n",
       "        vertical-align: top;\n",
       "    }\n",
       "\n",
       "    .dataframe thead th {\n",
       "        text-align: right;\n",
       "    }\n",
       "</style>\n",
       "<table border=\"1\" class=\"dataframe\">\n",
       "  <thead>\n",
       "    <tr style=\"text-align: right;\">\n",
       "      <th></th>\n",
       "      <th>U.S.</th>\n",
       "      <th>Alaska</th>\n",
       "      <th>Arkansas</th>\n",
       "      <th>Kansas</th>\n",
       "      <th>Other States</th>\n",
       "      <th>Federal Offshore--Gulf of Mexico</th>\n",
       "      <th>Wyoming</th>\n",
       "      <th>West Virginia</th>\n",
       "      <th>Utah</th>\n",
       "      <th>Pennsylvania</th>\n",
       "      <th>Texas</th>\n",
       "      <th>Oklahoma</th>\n",
       "      <th>Ohio</th>\n",
       "      <th>North Dakota</th>\n",
       "      <th>New Mexico</th>\n",
       "      <th>Montana</th>\n",
       "      <th>Louisiana</th>\n",
       "      <th>Colorado</th>\n",
       "      <th>California</th>\n",
       "    </tr>\n",
       "    <tr>\n",
       "      <th>Year</th>\n",
       "      <th></th>\n",
       "      <th></th>\n",
       "      <th></th>\n",
       "      <th></th>\n",
       "      <th></th>\n",
       "      <th></th>\n",
       "      <th></th>\n",
       "      <th></th>\n",
       "      <th></th>\n",
       "      <th></th>\n",
       "      <th></th>\n",
       "      <th></th>\n",
       "      <th></th>\n",
       "      <th></th>\n",
       "      <th></th>\n",
       "      <th></th>\n",
       "      <th></th>\n",
       "      <th></th>\n",
       "      <th></th>\n",
       "    </tr>\n",
       "  </thead>\n",
       "  <tbody>\n",
       "    <tr>\n",
       "      <th>2009</th>\n",
       "      <td>856876</td>\n",
       "      <td>108986</td>\n",
       "      <td>22353</td>\n",
       "      <td>11689</td>\n",
       "      <td>36078</td>\n",
       "      <td>80346</td>\n",
       "      <td>83413</td>\n",
       "      <td>8692</td>\n",
       "      <td>14782</td>\n",
       "      <td>9009</td>\n",
       "      <td>251694</td>\n",
       "      <td>62535</td>\n",
       "      <td>2919</td>\n",
       "      <td>3040</td>\n",
       "      <td>46867</td>\n",
       "      <td>3463</td>\n",
       "      <td>51221</td>\n",
       "      <td>49716</td>\n",
       "      <td>10071</td>\n",
       "    </tr>\n",
       "    <tr>\n",
       "      <th>2010</th>\n",
       "      <td>881622</td>\n",
       "      <td>105219</td>\n",
       "      <td>30475</td>\n",
       "      <td>10708</td>\n",
       "      <td>37542</td>\n",
       "      <td>74309</td>\n",
       "      <td>82687</td>\n",
       "      <td>8718</td>\n",
       "      <td>14361</td>\n",
       "      <td>18771</td>\n",
       "      <td>249632</td>\n",
       "      <td>60074</td>\n",
       "      <td>2568</td>\n",
       "      <td>3741</td>\n",
       "      <td>44101</td>\n",
       "      <td>3068</td>\n",
       "      <td>72873</td>\n",
       "      <td>52259</td>\n",
       "      <td>10521</td>\n",
       "    </tr>\n",
       "    <tr>\n",
       "      <th>2011</th>\n",
       "      <td>936163</td>\n",
       "      <td>104154</td>\n",
       "      <td>35384</td>\n",
       "      <td>10191</td>\n",
       "      <td>38187</td>\n",
       "      <td>60213</td>\n",
       "      <td>78095</td>\n",
       "      <td>12948</td>\n",
       "      <td>15170</td>\n",
       "      <td>43014</td>\n",
       "      <td>260747</td>\n",
       "      <td>62075</td>\n",
       "      <td>2592</td>\n",
       "      <td>5155</td>\n",
       "      <td>42315</td>\n",
       "      <td>2615</td>\n",
       "      <td>99905</td>\n",
       "      <td>54215</td>\n",
       "      <td>9181</td>\n",
       "    </tr>\n",
       "    <tr>\n",
       "      <th>2012</th>\n",
       "      <td>968632</td>\n",
       "      <td>103856</td>\n",
       "      <td>37571</td>\n",
       "      <td>9714</td>\n",
       "      <td>37045</td>\n",
       "      <td>50102</td>\n",
       "      <td>72988</td>\n",
       "      <td>17694</td>\n",
       "      <td>16079</td>\n",
       "      <td>73950</td>\n",
       "      <td>266989</td>\n",
       "      <td>66337</td>\n",
       "      <td>2772</td>\n",
       "      <td>8473</td>\n",
       "      <td>41846</td>\n",
       "      <td>2197</td>\n",
       "      <td>96895</td>\n",
       "      <td>56037</td>\n",
       "      <td>8092</td>\n",
       "    </tr>\n",
       "    <tr>\n",
       "      <th>2013</th>\n",
       "      <td>970617</td>\n",
       "      <td>105776</td>\n",
       "      <td>37466</td>\n",
       "      <td>9613</td>\n",
       "      <td>22657</td>\n",
       "      <td>43647</td>\n",
       "      <td>67338</td>\n",
       "      <td>24363</td>\n",
       "      <td>15482</td>\n",
       "      <td>107076</td>\n",
       "      <td>272844</td>\n",
       "      <td>65524</td>\n",
       "      <td>5442</td>\n",
       "      <td>11362</td>\n",
       "      <td>41010</td>\n",
       "      <td>2078</td>\n",
       "      <td>77873</td>\n",
       "      <td>52769</td>\n",
       "      <td>8296</td>\n",
       "    </tr>\n",
       "  </tbody>\n",
       "</table>\n",
       "</div>"
      ],
      "text/plain": [
       "        U.S.  Alaska  Arkansas  Kansas  Other States  \\\n",
       "Year                                                   \n",
       "2009  856876  108986     22353   11689         36078   \n",
       "2010  881622  105219     30475   10708         37542   \n",
       "2011  936163  104154     35384   10191         38187   \n",
       "2012  968632  103856     37571    9714         37045   \n",
       "2013  970617  105776     37466    9613         22657   \n",
       "\n",
       "      Federal Offshore--Gulf of Mexico  Wyoming  West Virginia   Utah  \\\n",
       "Year                                                                    \n",
       "2009                             80346    83413           8692  14782   \n",
       "2010                             74309    82687           8718  14361   \n",
       "2011                             60213    78095          12948  15170   \n",
       "2012                             50102    72988          17694  16079   \n",
       "2013                             43647    67338          24363  15482   \n",
       "\n",
       "      Pennsylvania   Texas  Oklahoma  Ohio  North Dakota  New Mexico  Montana  \\\n",
       "Year                                                                            \n",
       "2009          9009  251694     62535  2919          3040       46867     3463   \n",
       "2010         18771  249632     60074  2568          3741       44101     3068   \n",
       "2011         43014  260747     62075  2592          5155       42315     2615   \n",
       "2012         73950  266989     66337  2772          8473       41846     2197   \n",
       "2013        107076  272844     65524  5442         11362       41010     2078   \n",
       "\n",
       "      Louisiana  Colorado  California  \n",
       "Year                                   \n",
       "2009      51221     49716       10071  \n",
       "2010      72873     52259       10521  \n",
       "2011      99905     54215        9181  \n",
       "2012      96895     56037        8092  \n",
       "2013      77873     52769        8296  "
      ]
     },
     "execution_count": 21,
     "metadata": {},
     "output_type": "execute_result"
    }
   ],
   "source": [
    "filtered_yearly_gas_df = yearly_gas_df.iloc[1:-1]\n",
    "\n",
    "filtered_yearly_gas_df.head()"
   ]
  },
  {
   "cell_type": "markdown",
   "metadata": {
    "execution": {
     "iopub.execute_input": "2025-09-07T13:07:59.346380Z",
     "iopub.status.busy": "2025-09-07T13:07:59.345977Z",
     "iopub.status.idle": "2025-09-07T13:07:59.353613Z",
     "shell.execute_reply": "2025-09-07T13:07:59.352736Z",
     "shell.execute_reply.started": "2025-09-07T13:07:59.346350Z"
    }
   },
   "source": [
    "##  (Plotting) "
   ]
  },
  {
   "cell_type": "markdown",
   "metadata": {
    "execution": {
     "iopub.execute_input": "2025-09-07T13:24:04.659282Z",
     "iopub.status.busy": "2025-09-07T13:24:04.658712Z",
     "iopub.status.idle": "2025-09-07T13:24:04.671653Z",
     "shell.execute_reply": "2025-09-07T13:24:04.668669Z",
     "shell.execute_reply.started": "2025-09-07T13:24:04.659248Z"
    }
   },
   "source": [
    "### Yearly Total Gas Production in the U.S.\n"
   ]
  },
  {
   "cell_type": "code",
   "execution_count": 27,
   "metadata": {
    "execution": {
     "iopub.execute_input": "2025-09-07T13:21:55.122457Z",
     "iopub.status.busy": "2025-09-07T13:21:55.121996Z",
     "iopub.status.idle": "2025-09-07T13:21:55.907680Z",
     "shell.execute_reply": "2025-09-07T13:21:55.904253Z",
     "shell.execute_reply.started": "2025-09-07T13:21:55.122432Z"
    }
   },
   "outputs": [
    {
     "data": {
      "image/png": "[encoded data removed]",
      "text/plain": [
       "<Figure size 1000x500 with 1 Axes>"
      ]
     },
     "metadata": {},
     "output_type": "display_data"
    }
   ],
   "source": [
    "plt.figure(figsize=(10,5))\n",
    "plt.plot(filtered_yearly_gas_df.index, filtered_yearly_gas_df['U.S.'], marker='o')\n",
    "plt.title('Yearly Total Gas Production in the U.S.')\n",
    "plt.xlabel('Year')\n",
    "plt.ylabel('Production (million cubic feet)')\n",
    "plt.grid(True)\n",
    "plt.show()\n"
   ]
  },
  {
   "cell_type": "markdown",
   "metadata": {},
   "source": [
    "### Yearly Gas Production by Selected States\n"
   ]
  },
  {
   "cell_type": "code",
   "execution_count": 28,
   "metadata": {
    "execution": {
     "iopub.execute_input": "2025-09-07T13:22:36.072279Z",
     "iopub.status.busy": "2025-09-07T13:22:36.071914Z",
     "iopub.status.idle": "2025-09-07T13:22:36.084560Z",
     "shell.execute_reply": "2025-09-07T13:22:36.080716Z",
     "shell.execute_reply.started": "2025-09-07T13:22:36.072256Z"
    }
   },
   "outputs": [
    {
     "data": {
      "text/plain": [
       "Index(['Alaska', 'Arkansas', 'California', 'Colorado',\n",
       "       'Federal Offshore--Gulf of Mexico', 'Kansas', 'Louisiana', 'Montana',\n",
       "       'New Mexico', 'North Dakota', 'Ohio', 'Oklahoma', 'Other States',\n",
       "       'Pennsylvania', 'Texas', 'Utah', 'West Virginia', 'Wyoming'],\n",
       "      dtype='object')"
      ]
     },
     "execution_count": 28,
     "metadata": {},
     "output_type": "execute_result"
    }
   ],
   "source": [
    "filtered_yearly_gas_df.columns[1:].sort_values()\n"
   ]
  },
  {
   "cell_type": "code",
   "execution_count": 29,
   "metadata": {
    "execution": {
     "iopub.execute_input": "2025-09-07T13:23:21.173266Z",
     "iopub.status.busy": "2025-09-07T13:23:21.172854Z",
     "iopub.status.idle": "2025-09-07T13:23:21.517471Z",
     "shell.execute_reply": "2025-09-07T13:23:21.505411Z",
     "shell.execute_reply.started": "2025-09-07T13:23:21.173235Z"
    }
   },
   "outputs": [
    {
     "data": {
      "image/png": "[encoded data removed]",
      "text/plain": [
       "<Figure size 1200x600 with 1 Axes>"
      ]
     },
     "metadata": {},
     "output_type": "display_data"
    }
   ],
   "source": [
    "\n",
    "plt.figure(figsize=(12,6))\n",
    "states = ['Texas', 'Oklahoma', 'New Mexico', 'Alaska']\n",
    "for state in states:\n",
    "    plt.plot(filtered_yearly_gas_df.index, filtered_yearly_gas_df[state], marker='o', label=state)\n",
    "plt.title('Yearly Gas Production by Selected States')\n",
    "plt.xlabel('Year')\n",
    "plt.ylabel('Production (million cubic feet)')\n",
    "plt.grid(True)\n",
    "plt.legend()\n",
    "plt.show()\n"
   ]
  },
  {
   "cell_type": "markdown",
   "metadata": {},
   "source": [
    "##  Loading Crude Oil Production Data\n"
   ]
  },
  {
   "cell_type": "code",
   "execution_count": 31,
   "metadata": {
    "execution": {
     "iopub.execute_input": "2025-09-07T13:29:41.595909Z",
     "iopub.status.busy": "2025-09-07T13:29:41.595570Z",
     "iopub.status.idle": "2025-09-07T13:29:41.630512Z",
     "shell.execute_reply": "2025-09-07T13:29:41.629152Z",
     "shell.execute_reply.started": "2025-09-07T13:29:41.595889Z"
    }
   },
   "outputs": [
    {
     "data": {
      "text/html": [
       "<div>\n",
       "<style scoped>\n",
       "    .dataframe tbody tr th:only-of-type {\n",
       "        vertical-align: middle;\n",
       "    }\n",
       "\n",
       "    .dataframe tbody tr th {\n",
       "        vertical-align: top;\n",
       "    }\n",
       "\n",
       "    .dataframe thead th {\n",
       "        text-align: right;\n",
       "    }\n",
       "</style>\n",
       "<table border=\"1\" class=\"dataframe\">\n",
       "  <thead>\n",
       "    <tr style=\"text-align: right;\">\n",
       "      <th></th>\n",
       "      <th>Month</th>\n",
       "      <th>U.S. Crude Oil</th>\n",
       "      <th>Alabama</th>\n",
       "      <th>Alaska</th>\n",
       "      <th>Arkansas</th>\n",
       "      <th>Arizona</th>\n",
       "      <th>California</th>\n",
       "      <th>Colorado</th>\n",
       "      <th>Federal Offshore Gulf of Mexico Crude Oil</th>\n",
       "      <th>Federal Offshore Pacific Crude Oil</th>\n",
       "      <th>...</th>\n",
       "      <th>Ohio</th>\n",
       "      <th>Oklahoma</th>\n",
       "      <th>Pennsylvania</th>\n",
       "      <th>South Dakota</th>\n",
       "      <th>Wyoming</th>\n",
       "      <th>West Virginia</th>\n",
       "      <th>Virginia</th>\n",
       "      <th>Utah</th>\n",
       "      <th>Texas</th>\n",
       "      <th>Tennessee</th>\n",
       "    </tr>\n",
       "  </thead>\n",
       "  <tbody>\n",
       "    <tr>\n",
       "      <th>0</th>\n",
       "      <td>2008-06-01</td>\n",
       "      <td>5138</td>\n",
       "      <td>21</td>\n",
       "      <td>655</td>\n",
       "      <td>17</td>\n",
       "      <td>0</td>\n",
       "      <td>583</td>\n",
       "      <td>82</td>\n",
       "      <td>1326</td>\n",
       "      <td>67</td>\n",
       "      <td>...</td>\n",
       "      <td>14</td>\n",
       "      <td>186</td>\n",
       "      <td>8</td>\n",
       "      <td>5</td>\n",
       "      <td>144</td>\n",
       "      <td>6</td>\n",
       "      <td>0</td>\n",
       "      <td>60</td>\n",
       "      <td>1097</td>\n",
       "      <td>1</td>\n",
       "    </tr>\n",
       "    <tr>\n",
       "      <th>1</th>\n",
       "      <td>2008-07-01</td>\n",
       "      <td>5177</td>\n",
       "      <td>21</td>\n",
       "      <td>640</td>\n",
       "      <td>17</td>\n",
       "      <td>0</td>\n",
       "      <td>586</td>\n",
       "      <td>81</td>\n",
       "      <td>1372</td>\n",
       "      <td>61</td>\n",
       "      <td>...</td>\n",
       "      <td>14</td>\n",
       "      <td>184</td>\n",
       "      <td>8</td>\n",
       "      <td>5</td>\n",
       "      <td>145</td>\n",
       "      <td>5</td>\n",
       "      <td>0</td>\n",
       "      <td>61</td>\n",
       "      <td>1111</td>\n",
       "      <td>1</td>\n",
       "    </tr>\n",
       "    <tr>\n",
       "      <th>2</th>\n",
       "      <td>2008-08-01</td>\n",
       "      <td>5003</td>\n",
       "      <td>21</td>\n",
       "      <td>544</td>\n",
       "      <td>17</td>\n",
       "      <td>0</td>\n",
       "      <td>588</td>\n",
       "      <td>82</td>\n",
       "      <td>1272</td>\n",
       "      <td>70</td>\n",
       "      <td>...</td>\n",
       "      <td>14</td>\n",
       "      <td>188</td>\n",
       "      <td>8</td>\n",
       "      <td>5</td>\n",
       "      <td>145</td>\n",
       "      <td>6</td>\n",
       "      <td>0</td>\n",
       "      <td>62</td>\n",
       "      <td>1110</td>\n",
       "      <td>1</td>\n",
       "    </tr>\n",
       "    <tr>\n",
       "      <th>3</th>\n",
       "      <td>2008-09-01</td>\n",
       "      <td>3974</td>\n",
       "      <td>21</td>\n",
       "      <td>681</td>\n",
       "      <td>16</td>\n",
       "      <td>0</td>\n",
       "      <td>587</td>\n",
       "      <td>88</td>\n",
       "      <td>242</td>\n",
       "      <td>67</td>\n",
       "      <td>...</td>\n",
       "      <td>14</td>\n",
       "      <td>186</td>\n",
       "      <td>8</td>\n",
       "      <td>5</td>\n",
       "      <td>144</td>\n",
       "      <td>6</td>\n",
       "      <td>0</td>\n",
       "      <td>63</td>\n",
       "      <td>1055</td>\n",
       "      <td>1</td>\n",
       "    </tr>\n",
       "    <tr>\n",
       "      <th>4</th>\n",
       "      <td>2008-10-01</td>\n",
       "      <td>4738</td>\n",
       "      <td>21</td>\n",
       "      <td>716</td>\n",
       "      <td>17</td>\n",
       "      <td>0</td>\n",
       "      <td>586</td>\n",
       "      <td>86</td>\n",
       "      <td>803</td>\n",
       "      <td>66</td>\n",
       "      <td>...</td>\n",
       "      <td>14</td>\n",
       "      <td>185</td>\n",
       "      <td>8</td>\n",
       "      <td>5</td>\n",
       "      <td>145</td>\n",
       "      <td>6</td>\n",
       "      <td>0</td>\n",
       "      <td>64</td>\n",
       "      <td>1125</td>\n",
       "      <td>1</td>\n",
       "    </tr>\n",
       "  </tbody>\n",
       "</table>\n",
       "<p>5 rows × 36 columns</p>\n",
       "</div>"
      ],
      "text/plain": [
       "        Month  U.S. Crude Oil   Alabama  Alaska  Arkansas  Arizona  \\\n",
       "0  2008-06-01             5138       21     655        17        0   \n",
       "1  2008-07-01             5177       21     640        17        0   \n",
       "2  2008-08-01             5003       21     544        17        0   \n",
       "3  2008-09-01             3974       21     681        16        0   \n",
       "4  2008-10-01             4738       21     716        17        0   \n",
       "\n",
       "   California  Colorado  Federal Offshore Gulf of Mexico Crude Oil  \\\n",
       "0         583        82                                       1326   \n",
       "1         586        81                                       1372   \n",
       "2         588        82                                       1272   \n",
       "3         587        88                                        242   \n",
       "4         586        86                                        803   \n",
       "\n",
       "   Federal Offshore Pacific Crude Oil  ...  Ohio  Oklahoma  Pennsylvania  \\\n",
       "0                                  67  ...    14       186             8   \n",
       "1                                  61  ...    14       184             8   \n",
       "2                                  70  ...    14       188             8   \n",
       "3                                  67  ...    14       186             8   \n",
       "4                                  66  ...    14       185             8   \n",
       "\n",
       "   South Dakota  Wyoming  West Virginia  Virginia  Utah  Texas  Tennessee  \n",
       "0             5      144              6         0    60   1097          1  \n",
       "1             5      145              5         0    61   1111          1  \n",
       "2             5      145              6         0    62   1110          1  \n",
       "3             5      144              6         0    63   1055          1  \n",
       "4             5      145              6         0    64   1125          1  \n",
       "\n",
       "[5 rows x 36 columns]"
      ]
     },
     "execution_count": 31,
     "metadata": {},
     "output_type": "execute_result"
    }
   ],
   "source": [
    "file_oil = \"data/U.S._crude_oil_production.csv\"\n",
    "oil_df = pd.read_csv(file_oil, decimal=\",\")\n",
    "oil_df.head(5)"
   ]
  },
  {
   "cell_type": "markdown",
   "metadata": {},
   "source": [
    "## Inspect the dataframe\n"
   ]
  },
  {
   "cell_type": "code",
   "execution_count": 32,
   "metadata": {
    "execution": {
     "iopub.execute_input": "2025-09-07T13:30:12.244956Z",
     "iopub.status.busy": "2025-09-07T13:30:12.244629Z",
     "iopub.status.idle": "2025-09-07T13:30:12.254243Z",
     "shell.execute_reply": "2025-09-07T13:30:12.252483Z",
     "shell.execute_reply.started": "2025-09-07T13:30:12.244934Z"
    }
   },
   "outputs": [
    {
     "data": {
      "text/plain": [
       "(121, 36)"
      ]
     },
     "execution_count": 32,
     "metadata": {},
     "output_type": "execute_result"
    }
   ],
   "source": [
    "oil_df.shape\n"
   ]
  },
  {
   "cell_type": "code",
   "execution_count": 33,
   "metadata": {
    "execution": {
     "iopub.execute_input": "2025-09-07T13:30:16.593684Z",
     "iopub.status.busy": "2025-09-07T13:30:16.593344Z",
     "iopub.status.idle": "2025-09-07T13:30:16.609197Z",
     "shell.execute_reply": "2025-09-07T13:30:16.606015Z",
     "shell.execute_reply.started": "2025-09-07T13:30:16.593660Z"
    }
   },
   "outputs": [
    {
     "data": {
      "text/plain": [
       "Index(['Month', 'U.S. Crude Oil ', 'Alabama', 'Alaska', 'Arkansas', 'Arizona',\n",
       "       'California', 'Colorado', 'Federal Offshore Gulf of Mexico Crude Oil',\n",
       "       'Federal Offshore Pacific Crude Oil', 'Florida', 'Idaho', 'Illinois',\n",
       "       'Indiana', 'Kansas', 'Kentucky', 'Louisiana', 'Michigan', 'Mississippi',\n",
       "       'Missouri', 'Nebraska', 'Montana', 'Nevada', 'New Mexico', 'New York',\n",
       "       'North Dakota', 'Ohio', 'Oklahoma', 'Pennsylvania', 'South Dakota',\n",
       "       'Wyoming', 'West Virginia', 'Virginia', 'Utah', 'Texas', 'Tennessee'],\n",
       "      dtype='object')"
      ]
     },
     "execution_count": 33,
     "metadata": {},
     "output_type": "execute_result"
    }
   ],
   "source": [
    "oil_df.columns\n"
   ]
  },
  {
   "cell_type": "code",
   "execution_count": 34,
   "metadata": {
    "execution": {
     "iopub.execute_input": "2025-09-07T13:30:22.249824Z",
     "iopub.status.busy": "2025-09-07T13:30:22.249491Z",
     "iopub.status.idle": "2025-09-07T13:30:22.315296Z",
     "shell.execute_reply": "2025-09-07T13:30:22.313969Z",
     "shell.execute_reply.started": "2025-09-07T13:30:22.249800Z"
    }
   },
   "outputs": [
    {
     "name": "stdout",
     "output_type": "stream",
     "text": [
      "<class 'pandas.core.frame.DataFrame'>\n",
      "RangeIndex: 121 entries, 0 to 120\n",
      "Data columns (total 36 columns):\n",
      " #   Column                                     Non-Null Count  Dtype \n",
      "---  ------                                     --------------  ----- \n",
      " 0   Month                                      121 non-null    object\n",
      " 1   U.S. Crude Oil                             121 non-null    int64 \n",
      " 2   Alabama                                    121 non-null    int64 \n",
      " 3   Alaska                                     121 non-null    int64 \n",
      " 4   Arkansas                                   121 non-null    int64 \n",
      " 5   Arizona                                    121 non-null    int64 \n",
      " 6   California                                 121 non-null    int64 \n",
      " 7   Colorado                                   121 non-null    int64 \n",
      " 8   Federal Offshore Gulf of Mexico Crude Oil  121 non-null    int64 \n",
      " 9   Federal Offshore Pacific Crude Oil         121 non-null    int64 \n",
      " 10  Florida                                    121 non-null    int64 \n",
      " 11  Idaho                                      121 non-null    int64 \n",
      " 12  Illinois                                   121 non-null    int64 \n",
      " 13  Indiana                                    121 non-null    int64 \n",
      " 14  Kansas                                     121 non-null    int64 \n",
      " 15  Kentucky                                   121 non-null    int64 \n",
      " 16  Louisiana                                  121 non-null    int64 \n",
      " 17  Michigan                                   121 non-null    int64 \n",
      " 18  Mississippi                                121 non-null    int64 \n",
      " 19  Missouri                                   121 non-null    int64 \n",
      " 20  Nebraska                                   121 non-null    int64 \n",
      " 21  Montana                                    121 non-null    int64 \n",
      " 22  Nevada                                     121 non-null    int64 \n",
      " 23  New Mexico                                 121 non-null    int64 \n",
      " 24  New York                                   121 non-null    int64 \n",
      " 25  North Dakota                               121 non-null    int64 \n",
      " 26  Ohio                                       121 non-null    int64 \n",
      " 27  Oklahoma                                   121 non-null    int64 \n",
      " 28  Pennsylvania                               121 non-null    int64 \n",
      " 29  South Dakota                               121 non-null    int64 \n",
      " 30  Wyoming                                    121 non-null    int64 \n",
      " 31  West Virginia                              121 non-null    int64 \n",
      " 32  Virginia                                   121 non-null    int64 \n",
      " 33  Utah                                       121 non-null    int64 \n",
      " 34  Texas                                      121 non-null    int64 \n",
      " 35  Tennessee                                  121 non-null    int64 \n",
      "dtypes: int64(35), object(1)\n",
      "memory usage: 34.2+ KB\n"
     ]
    }
   ],
   "source": [
    "oil_df.info()"
   ]
  },
  {
   "cell_type": "markdown",
   "metadata": {},
   "source": [
    "## Converting Month column to datetime\n"
   ]
  },
  {
   "cell_type": "code",
   "execution_count": 35,
   "metadata": {
    "execution": {
     "iopub.execute_input": "2025-09-07T13:30:48.128054Z",
     "iopub.status.busy": "2025-09-07T13:30:48.127343Z",
     "iopub.status.idle": "2025-09-07T13:30:48.139759Z",
     "shell.execute_reply": "2025-09-07T13:30:48.139133Z",
     "shell.execute_reply.started": "2025-09-07T13:30:48.127856Z"
    }
   },
   "outputs": [
    {
     "data": {
      "text/plain": [
       "dtype('<M8[ns]')"
      ]
     },
     "execution_count": 35,
     "metadata": {},
     "output_type": "execute_result"
    }
   ],
   "source": [
    "oil_df['Month'] = pd.to_datetime(oil_df['Month'])\n",
    "oil_df['Year'] = oil_df['Month'].dt.year\n",
    "\n",
    "# Optional: check conversion\n",
    "oil_df['Month'].dtype\n"
   ]
  },
  {
   "cell_type": "markdown",
   "metadata": {},
   "source": [
    "##  Yearly Crude Oil Production\n"
   ]
  },
  {
   "cell_type": "code",
   "execution_count": 36,
   "metadata": {
    "execution": {
     "iopub.execute_input": "2025-09-07T13:31:16.903615Z",
     "iopub.status.busy": "2025-09-07T13:31:16.903230Z",
     "iopub.status.idle": "2025-09-07T13:31:17.000511Z",
     "shell.execute_reply": "2025-09-07T13:31:16.999347Z",
     "shell.execute_reply.started": "2025-09-07T13:31:16.903592Z"
    }
   },
   "outputs": [
    {
     "data": {
      "text/html": [
       "<div>\n",
       "<style scoped>\n",
       "    .dataframe tbody tr th:only-of-type {\n",
       "        vertical-align: middle;\n",
       "    }\n",
       "\n",
       "    .dataframe tbody tr th {\n",
       "        vertical-align: top;\n",
       "    }\n",
       "\n",
       "    .dataframe thead th {\n",
       "        text-align: right;\n",
       "    }\n",
       "</style>\n",
       "<table border=\"1\" class=\"dataframe\">\n",
       "  <thead>\n",
       "    <tr style=\"text-align: right;\">\n",
       "      <th></th>\n",
       "      <th>U.S. Crude Oil</th>\n",
       "      <th>Alabama</th>\n",
       "      <th>Alaska</th>\n",
       "      <th>Arkansas</th>\n",
       "      <th>Arizona</th>\n",
       "      <th>California</th>\n",
       "      <th>Colorado</th>\n",
       "      <th>Federal Offshore Gulf of Mexico Crude Oil</th>\n",
       "      <th>Federal Offshore Pacific Crude Oil</th>\n",
       "      <th>Florida</th>\n",
       "      <th>...</th>\n",
       "      <th>Ohio</th>\n",
       "      <th>Oklahoma</th>\n",
       "      <th>Pennsylvania</th>\n",
       "      <th>South Dakota</th>\n",
       "      <th>Wyoming</th>\n",
       "      <th>West Virginia</th>\n",
       "      <th>Virginia</th>\n",
       "      <th>Utah</th>\n",
       "      <th>Texas</th>\n",
       "      <th>Tennessee</th>\n",
       "    </tr>\n",
       "    <tr>\n",
       "      <th>Year</th>\n",
       "      <th></th>\n",
       "      <th></th>\n",
       "      <th></th>\n",
       "      <th></th>\n",
       "      <th></th>\n",
       "      <th></th>\n",
       "      <th></th>\n",
       "      <th></th>\n",
       "      <th></th>\n",
       "      <th></th>\n",
       "      <th></th>\n",
       "      <th></th>\n",
       "      <th></th>\n",
       "      <th></th>\n",
       "      <th></th>\n",
       "      <th></th>\n",
       "      <th></th>\n",
       "      <th></th>\n",
       "      <th></th>\n",
       "      <th></th>\n",
       "      <th></th>\n",
       "    </tr>\n",
       "  </thead>\n",
       "  <tbody>\n",
       "    <tr>\n",
       "      <th>2009</th>\n",
       "      <td>64180</td>\n",
       "      <td>236</td>\n",
       "      <td>7749</td>\n",
       "      <td>189</td>\n",
       "      <td>0</td>\n",
       "      <td>6815</td>\n",
       "      <td>998</td>\n",
       "      <td>18727</td>\n",
       "      <td>734</td>\n",
       "      <td>24</td>\n",
       "      <td>...</td>\n",
       "      <td>156</td>\n",
       "      <td>2144</td>\n",
       "      <td>96</td>\n",
       "      <td>55</td>\n",
       "      <td>1695</td>\n",
       "      <td>48</td>\n",
       "      <td>0</td>\n",
       "      <td>757</td>\n",
       "      <td>13132</td>\n",
       "      <td>12</td>\n",
       "    </tr>\n",
       "    <tr>\n",
       "      <th>2010</th>\n",
       "      <td>65741</td>\n",
       "      <td>234</td>\n",
       "      <td>7199</td>\n",
       "      <td>189</td>\n",
       "      <td>0</td>\n",
       "      <td>6588</td>\n",
       "      <td>1086</td>\n",
       "      <td>18640</td>\n",
       "      <td>713</td>\n",
       "      <td>56</td>\n",
       "      <td>...</td>\n",
       "      <td>156</td>\n",
       "      <td>2239</td>\n",
       "      <td>108</td>\n",
       "      <td>53</td>\n",
       "      <td>1771</td>\n",
       "      <td>59</td>\n",
       "      <td>0</td>\n",
       "      <td>809</td>\n",
       "      <td>14026</td>\n",
       "      <td>12</td>\n",
       "    </tr>\n",
       "    <tr>\n",
       "      <th>2011</th>\n",
       "      <td>67829</td>\n",
       "      <td>275</td>\n",
       "      <td>6742</td>\n",
       "      <td>195</td>\n",
       "      <td>0</td>\n",
       "      <td>6449</td>\n",
       "      <td>1295</td>\n",
       "      <td>15805</td>\n",
       "      <td>652</td>\n",
       "      <td>67</td>\n",
       "      <td>...</td>\n",
       "      <td>156</td>\n",
       "      <td>2534</td>\n",
       "      <td>114</td>\n",
       "      <td>53</td>\n",
       "      <td>1795</td>\n",
       "      <td>72</td>\n",
       "      <td>0</td>\n",
       "      <td>864</td>\n",
       "      <td>17393</td>\n",
       "      <td>12</td>\n",
       "    </tr>\n",
       "    <tr>\n",
       "      <th>2012</th>\n",
       "      <td>78007</td>\n",
       "      <td>312</td>\n",
       "      <td>6310</td>\n",
       "      <td>214</td>\n",
       "      <td>0</td>\n",
       "      <td>6465</td>\n",
       "      <td>1626</td>\n",
       "      <td>15189</td>\n",
       "      <td>580</td>\n",
       "      <td>71</td>\n",
       "      <td>...</td>\n",
       "      <td>168</td>\n",
       "      <td>3095</td>\n",
       "      <td>144</td>\n",
       "      <td>60</td>\n",
       "      <td>1900</td>\n",
       "      <td>85</td>\n",
       "      <td>0</td>\n",
       "      <td>991</td>\n",
       "      <td>23742</td>\n",
       "      <td>12</td>\n",
       "    </tr>\n",
       "    <tr>\n",
       "      <th>2013</th>\n",
       "      <td>89585</td>\n",
       "      <td>342</td>\n",
       "      <td>6182</td>\n",
       "      <td>218</td>\n",
       "      <td>0</td>\n",
       "      <td>6540</td>\n",
       "      <td>2175</td>\n",
       "      <td>15068</td>\n",
       "      <td>610</td>\n",
       "      <td>72</td>\n",
       "      <td>...</td>\n",
       "      <td>264</td>\n",
       "      <td>3786</td>\n",
       "      <td>174</td>\n",
       "      <td>60</td>\n",
       "      <td>2088</td>\n",
       "      <td>237</td>\n",
       "      <td>0</td>\n",
       "      <td>1152</td>\n",
       "      <td>30475</td>\n",
       "      <td>12</td>\n",
       "    </tr>\n",
       "  </tbody>\n",
       "</table>\n",
       "<p>5 rows × 35 columns</p>\n",
       "</div>"
      ],
      "text/plain": [
       "      U.S. Crude Oil   Alabama  Alaska  Arkansas  Arizona  California  \\\n",
       "Year                                                                    \n",
       "2009            64180      236    7749       189        0        6815   \n",
       "2010            65741      234    7199       189        0        6588   \n",
       "2011            67829      275    6742       195        0        6449   \n",
       "2012            78007      312    6310       214        0        6465   \n",
       "2013            89585      342    6182       218        0        6540   \n",
       "\n",
       "      Colorado  Federal Offshore Gulf of Mexico Crude Oil  \\\n",
       "Year                                                        \n",
       "2009       998                                      18727   \n",
       "2010      1086                                      18640   \n",
       "2011      1295                                      15805   \n",
       "2012      1626                                      15189   \n",
       "2013      2175                                      15068   \n",
       "\n",
       "      Federal Offshore Pacific Crude Oil  Florida  ...  Ohio  Oklahoma  \\\n",
       "Year                                               ...                   \n",
       "2009                                 734       24  ...   156      2144   \n",
       "2010                                 713       56  ...   156      2239   \n",
       "2011                                 652       67  ...   156      2534   \n",
       "2012                                 580       71  ...   168      3095   \n",
       "2013                                 610       72  ...   264      3786   \n",
       "\n",
       "      Pennsylvania  South Dakota  Wyoming  West Virginia  Virginia  Utah  \\\n",
       "Year                                                                       \n",
       "2009            96            55     1695             48         0   757   \n",
       "2010           108            53     1771             59         0   809   \n",
       "2011           114            53     1795             72         0   864   \n",
       "2012           144            60     1900             85         0   991   \n",
       "2013           174            60     2088            237         0  1152   \n",
       "\n",
       "      Texas  Tennessee  \n",
       "Year                    \n",
       "2009  13132         12  \n",
       "2010  14026         12  \n",
       "2011  17393         12  \n",
       "2012  23742         12  \n",
       "2013  30475         12  \n",
       "\n",
       "[5 rows x 35 columns]"
      ]
     },
     "execution_count": 36,
     "metadata": {},
     "output_type": "execute_result"
    }
   ],
   "source": [
    "yearly_oil_df = oil_df.groupby('Year').sum(numeric_only=True)\n",
    "\n",
    "# Filter only full years (remove 2008 and 2018 if incomplete)\n",
    "filtered_yearly_oil_df = yearly_oil_df.loc[2009:2017]\n",
    "\n",
    "filtered_yearly_oil_df.head()\n"
   ]
  },
  {
   "cell_type": "markdown",
   "metadata": {},
   "source": [
    "##  Plotting Yearly Total U.S. Crude Oil Production\n"
   ]
  },
  {
   "cell_type": "code",
   "execution_count": 38,
   "metadata": {
    "execution": {
     "iopub.execute_input": "2025-09-07T13:34:07.771654Z",
     "iopub.status.busy": "2025-09-07T13:34:07.770932Z",
     "iopub.status.idle": "2025-09-07T13:34:08.072885Z",
     "shell.execute_reply": "2025-09-07T13:34:08.072165Z",
     "shell.execute_reply.started": "2025-09-07T13:34:07.771627Z"
    }
   },
   "outputs": [
    {
     "data": {
      "image/png": "[encoded data removed]",
      "text/plain": [
       "<Figure size 1000x500 with 1 Axes>"
      ]
     },
     "metadata": {},
     "output_type": "display_data"
    }
   ],
   "source": [
    "\n",
    "plt.figure(figsize=(10,5))\n",
    "plt.plot(filtered_yearly_oil_df.index, filtered_yearly_oil_df['U.S. Crude Oil '], marker='o')\n",
    "plt.title('Yearly Total Crude Oil Production in the U.S.')\n",
    "plt.xlabel('Year')\n",
    "plt.ylabel('Production (thousand barrels)')\n",
    "plt.grid(True)\n",
    "plt.show()"
   ]
  },
  {
   "cell_type": "markdown",
   "metadata": {},
   "source": [
    "## Filtered Yearly Crude Oil Production (Full Years)\n"
   ]
  },
  {
   "cell_type": "code",
   "execution_count": 39,
   "metadata": {
    "execution": {
     "iopub.execute_input": "2025-09-07T13:34:57.578257Z",
     "iopub.status.busy": "2025-09-07T13:34:57.577914Z",
     "iopub.status.idle": "2025-09-07T13:34:57.584783Z",
     "shell.execute_reply": "2025-09-07T13:34:57.583910Z",
     "shell.execute_reply.started": "2025-09-07T13:34:57.578234Z"
    }
   },
   "outputs": [],
   "source": [
    "filtered_yearly_oil_df = yearly_oil_df.iloc[1:-1]  \n"
   ]
  },
  {
   "cell_type": "markdown",
   "metadata": {},
   "source": [
    "##  State Production\n"
   ]
  },
  {
   "cell_type": "code",
   "execution_count": 40,
   "metadata": {
    "execution": {
     "iopub.execute_input": "2025-09-07T13:35:21.805804Z",
     "iopub.status.busy": "2025-09-07T13:35:21.768810Z",
     "iopub.status.idle": "2025-09-07T13:35:22.149520Z",
     "shell.execute_reply": "2025-09-07T13:35:22.145258Z",
     "shell.execute_reply.started": "2025-09-07T13:35:21.798598Z"
    }
   },
   "outputs": [
    {
     "data": {
      "image/png": "[encoded data removed]",
      "text/plain": [
       "<Figure size 1000x500 with 1 Axes>"
      ]
     },
     "metadata": {},
     "output_type": "display_data"
    }
   ],
   "source": [
    "selected_states = ['Texas', 'Alaska', 'California', 'North Dakota']\n",
    "filtered_yearly_oil_df[selected_states].plot(figsize=(10,5), marker='o')\n",
    "plt.title('Yearly Crude Oil Production by Selected States')\n",
    "plt.xlabel('Year')\n",
    "plt.ylabel('Production (thousand barrels)')\n",
    "plt.grid(True)\n",
    "plt.show()\n"
   ]
  },
  {
   "cell_type": "markdown",
   "metadata": {},
   "source": [
    "##  Merging Oil and Gas Production\n",
    "\n"
   ]
  },
  {
   "cell_type": "code",
   "execution_count": 42,
   "metadata": {
    "execution": {
     "iopub.execute_input": "2025-09-07T13:37:28.314230Z",
     "iopub.status.busy": "2025-09-07T13:37:28.313811Z",
     "iopub.status.idle": "2025-09-07T13:37:28.693966Z",
     "shell.execute_reply": "2025-09-07T13:37:28.691297Z",
     "shell.execute_reply.started": "2025-09-07T13:37:28.314200Z"
    }
   },
   "outputs": [
    {
     "data": {
      "image/png": "[encoded data removed]",
      "text/plain": [
       "<Figure size 1000x500 with 1 Axes>"
      ]
     },
     "metadata": {},
     "output_type": "display_data"
    }
   ],
   "source": [
    "total_gas = filtered_yearly_gas_df[['U.S.']].rename(columns={'U.S.':'Gas'})\n",
    "total_oil = filtered_yearly_oil_df[['U.S. Crude Oil ']].rename(columns={'U.S. Crude Oil ':'Crude Oil'})  # لاحظ المسافة\n",
    "\n",
    "merged_df = pd.concat([total_gas, total_oil], axis=1)\n",
    "merged_df.plot(figsize=(10,5), marker='o')\n",
    "plt.title('Yearly Total Gas and Crude Oil Production in the U.S.')\n",
    "plt.xlabel('Year')\n",
    "plt.ylabel('Production')\n",
    "plt.grid(True)\n",
    "plt.show()\n",
    "\n"
   ]
  },
  {
   "cell_type": "code",
   "execution_count": 44,
   "metadata": {
    "execution": {
     "iopub.execute_input": "2025-09-07T13:39:05.486012Z",
     "iopub.status.busy": "2025-09-07T13:39:05.485696Z",
     "iopub.status.idle": "2025-09-07T13:39:05.504440Z",
     "shell.execute_reply": "2025-09-07T13:39:05.503465Z",
     "shell.execute_reply.started": "2025-09-07T13:39:05.485991Z"
    }
   },
   "outputs": [
    {
     "data": {
      "text/html": [
       "<div>\n",
       "<style scoped>\n",
       "    .dataframe tbody tr th:only-of-type {\n",
       "        vertical-align: middle;\n",
       "    }\n",
       "\n",
       "    .dataframe tbody tr th {\n",
       "        vertical-align: top;\n",
       "    }\n",
       "\n",
       "    .dataframe thead th {\n",
       "        text-align: right;\n",
       "    }\n",
       "</style>\n",
       "<table border=\"1\" class=\"dataframe\">\n",
       "  <thead>\n",
       "    <tr style=\"text-align: right;\">\n",
       "      <th></th>\n",
       "      <th>Gas</th>\n",
       "      <th>Crude Oil</th>\n",
       "    </tr>\n",
       "    <tr>\n",
       "      <th>Year</th>\n",
       "      <th></th>\n",
       "      <th></th>\n",
       "    </tr>\n",
       "  </thead>\n",
       "  <tbody>\n",
       "    <tr>\n",
       "      <th>2009</th>\n",
       "      <td>856876</td>\n",
       "      <td>64180</td>\n",
       "    </tr>\n",
       "    <tr>\n",
       "      <th>2010</th>\n",
       "      <td>881622</td>\n",
       "      <td>65741</td>\n",
       "    </tr>\n",
       "    <tr>\n",
       "      <th>2011</th>\n",
       "      <td>936163</td>\n",
       "      <td>67829</td>\n",
       "    </tr>\n",
       "    <tr>\n",
       "      <th>2012</th>\n",
       "      <td>968632</td>\n",
       "      <td>78007</td>\n",
       "    </tr>\n",
       "    <tr>\n",
       "      <th>2013</th>\n",
       "      <td>970617</td>\n",
       "      <td>89585</td>\n",
       "    </tr>\n",
       "  </tbody>\n",
       "</table>\n",
       "</div>"
      ],
      "text/plain": [
       "         Gas  Crude Oil\n",
       "Year                   \n",
       "2009  856876      64180\n",
       "2010  881622      65741\n",
       "2011  936163      67829\n",
       "2012  968632      78007\n",
       "2013  970617      89585"
      ]
     },
     "execution_count": 44,
     "metadata": {},
     "output_type": "execute_result"
    }
   ],
   "source": [
    "merged_df.head()\n"
   ]
  },
  {
   "cell_type": "code",
   "execution_count": 45,
   "metadata": {
    "execution": {
     "iopub.execute_input": "2025-09-07T13:39:08.774177Z",
     "iopub.status.busy": "2025-09-07T13:39:08.773732Z",
     "iopub.status.idle": "2025-09-07T13:39:08.841731Z",
     "shell.execute_reply": "2025-09-07T13:39:08.836765Z",
     "shell.execute_reply.started": "2025-09-07T13:39:08.774152Z"
    }
   },
   "outputs": [
    {
     "data": {
      "text/plain": [
       "(9, 2)"
      ]
     },
     "execution_count": 45,
     "metadata": {},
     "output_type": "execute_result"
    }
   ],
   "source": [
    "merged_df.shape\n"
   ]
  },
  {
   "cell_type": "markdown",
   "metadata": {
    "execution": {
     "iopub.execute_input": "2025-09-07T13:39:54.109867Z",
     "iopub.status.busy": "2025-09-07T13:39:54.109324Z",
     "iopub.status.idle": "2025-09-07T13:39:54.121033Z",
     "shell.execute_reply": "2025-09-07T13:39:54.118098Z",
     "shell.execute_reply.started": "2025-09-07T13:39:54.109842Z"
    }
   },
   "source": [
    "## Analysis of U.S. Gas vs Crude Oil Production\n",
    "This plot shows the yearly total production of natural gas and crude oil in the United States. Observations and trends can be discussed here.\n"
   ]
  },
  {
   "cell_type": "code",
   "execution_count": 46,
   "metadata": {
    "execution": {
     "iopub.execute_input": "2025-09-07T13:39:21.253211Z",
     "iopub.status.busy": "2025-09-07T13:39:21.252026Z",
     "iopub.status.idle": "2025-09-07T13:39:21.547400Z",
     "shell.execute_reply": "2025-09-07T13:39:21.545240Z",
     "shell.execute_reply.started": "2025-09-07T13:39:21.253173Z"
    }
   },
   "outputs": [
    {
     "data": {
      "image/png": "[encoded data removed]",
      "text/plain": [
       "<Figure size 1000x500 with 1 Axes>"
      ]
     },
     "metadata": {},
     "output_type": "display_data"
    }
   ],
   "source": [
    "merged_df.plot(figsize=(10,5), marker='o')\n",
    "plt.title('Yearly Total Gas and Crude Oil Production in the U.S.')\n",
    "plt.xlabel('Year')\n",
    "plt.ylabel('Production')\n",
    "plt.grid(True)\n",
    "plt.show()\n"
   ]
  },
  {
   "cell_type": "code",
   "execution_count": 48,
   "metadata": {
    "execution": {
     "iopub.execute_input": "2025-09-07T13:41:01.347018Z",
     "iopub.status.busy": "2025-09-07T13:41:01.346687Z",
     "iopub.status.idle": "2025-09-07T13:41:02.648505Z",
     "shell.execute_reply": "2025-09-07T13:41:02.647152Z",
     "shell.execute_reply.started": "2025-09-07T13:41:01.346996Z"
    }
   },
   "outputs": [
    {
     "name": "stdout",
     "output_type": "stream",
     "text": [
      "\n",
      "\u001b[1m============================= test session starts ==============================\u001b[0m\n",
      "platform darwin -- Python 3.12.9, pytest-8.3.4, pluggy-1.5.0 -- /Users/raheil/.pyenv/versions/3.12.9/envs/lewagon/bin/python\n",
      "cachedir: .pytest_cache\n",
      "rootdir: /Users/raheil/code/RaheilOt/02-Data-Toolkit/01-Data-Analysis/data-us-oil-and-gas-production/tests\n",
      "plugins: anyio-4.8.0, typeguard-4.4.2\n",
      "\u001b[1mcollecting ... \u001b[0mcollected 2 items\n",
      "\n",
      "test_merged_dataframes.py::TestMergedDataframes::test_merged_df_has_the_right_shape \u001b[32mPASSED\u001b[0m\u001b[32m [ 50%]\u001b[0m\n",
      "test_merged_dataframes.py::TestMergedDataframes::test_yearly_oil_value_2009 \u001b[32mPASSED\u001b[0m\u001b[32m [100%]\u001b[0m\n",
      "\n",
      "\u001b[32m============================== \u001b[32m\u001b[1m2 passed\u001b[0m\u001b[32m in 0.24s\u001b[0m\u001b[32m ===============================\u001b[0m\n",
      "\n",
      "\n",
      "💯 You can commit your code:\n",
      "\n",
      "\u001b[1;32mgit\u001b[39m add tests/merged_dataframes.pickle\n",
      "\n",
      "\u001b[32mgit\u001b[39m commit -m \u001b[33m'Completed merged_dataframes step'\u001b[39m\n",
      "\n",
      "\u001b[32mgit\u001b[39m push origin master\n",
      "\n"
     ]
    }
   ],
   "source": [
    "from nbresult import ChallengeResult\n",
    "\n",
    "# مثال لاختبار آخر خطوة\n",
    "result = ChallengeResult('merged_dataframes',\n",
    "    merged_df_shape=merged_df.shape,\n",
    "    yearly_oil_2009=merged_df.iloc[0][\"Crude Oil\"],\n",
    ")\n",
    "result.write()\n",
    "print(result.check())\n"
   ]
  },
  {
   "cell_type": "code",
   "execution_count": null,
   "metadata": {},
   "outputs": [],
   "source": []
  }
 ],
 "metadata": {
  "kernelspec": {
   "display_name": "Python 3 (ipykernel)",
   "language": "python",
   "name": "python3"
  },
  "language_info": {
   "codemirror_mode": {
    "name": "ipython",
    "version": 3
   },
   "file_extension": ".py",
   "mimetype": "text/x-python",
   "name": "python",
   "nbconvert_exporter": "python",
   "pygments_lexer": "ipython3",
   "version": "3.12.9"
  }
 },
 "nbformat": 4,
 "nbformat_minor": 4
}
